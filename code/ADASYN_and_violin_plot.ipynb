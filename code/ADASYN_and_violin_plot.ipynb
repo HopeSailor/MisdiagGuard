{
 "cells": [
  {
   "cell_type": "code",
   "execution_count": null,
   "id": "76262a44",
   "metadata": {},
   "outputs": [],
   "source": [
    "import matplotlib.pyplot as plt\n",
    "import pandas as pd\n",
    "import seaborn as sns\n",
    "from matplotlib import rcParams\n",
    "import matplotlib.patches as mpatches\n",
    "from imblearn.over_sampling import ADASYN\n",
    "from sklearn.impute import SimpleImputer"
   ]
  },
  {
   "cell_type": "code",
   "execution_count": null,
   "id": "dab50f8f",
   "metadata": {},
   "outputs": [],
   "source": [
    "df = pd.read_excel('./code/data/hybrid_machine_learning/train_without.xlsx')"
   ]
  },
  {
   "cell_type": "code",
   "execution_count": null,
   "id": "a08ca91a",
   "metadata": {},
   "outputs": [],
   "source": [
    "# Replace NaNs with mean value of the column\n",
    "imputer = SimpleImputer(strategy='mean')\n",
    "df = pd.DataFrame(imputer.fit_transform(df), columns=df.columns)\n",
    "X = df.drop('Misdiag', axis=1)\n",
    "y = df['Misdiag']\n",
    "ada = ADASYN(sampling_strategy='minority', random_state=42)\n",
    "X_res, y_res = ada.fit_resample(X, y)\n",
    "\n",
    "# Merge them back into one DataFrame:\n",
    "df_res = pd.DataFrame(X_res, columns=X.columns)\n",
    "df_res['Misdiag'] = y_res"
   ]
  },
  {
   "cell_type": "code",
   "execution_count": null,
   "id": "a5392fe5",
   "metadata": {},
   "outputs": [],
   "source": [
    "# Set the font to Times New Roman\n",
    "plt.rcParams['font.family'] = 'Times New Roman'\n",
    "plt.rcParams['font.size'] = 12\n",
    "\n",
    "# Define the list of columns to plot\n",
    "columns_to_plot = ['WBC', 'HGB', 'Pulse', 'Respiration', 'BMI', 'BodySurfaceArea']\n",
    "# Define the colors for the violin plots\n",
    "colors = [\"#64699B\", \"#C74647\"]\n",
    "# Create violin plots\n",
    "for col in columns_to_plot:\n",
    "    fig, ax = plt.subplots(figsize=(4, 4))\n",
    "    sns.violinplot(x='sampling', y=col, hue='Misdiag', split=True, \n",
    "                   data=pd.concat([df.assign(sampling='Train'), \n",
    "                                   df_res.assign(sampling='Resampled')]), \n",
    "                   palette=colors, ax=ax)\n",
    "    plt.xlabel('')  # remove the abscissa\n",
    "    # Add legend\n",
    "    class0_patch = mpatches.Patch(color=colors[0], label='Correct diagnosis')\n",
    "    class1_patch = mpatches.Patch(color=colors[1], label='Misdiagnosis')\n",
    "    plt.legend(handles=[class0_patch, class1_patch])\n",
    "    plt.savefig(f'./new_figure/fig3_a_violin_plot_{col}.png', dpi=1200)\n",
    "    plt.show()"
   ]
  },
  {
   "cell_type": "code",
   "execution_count": null,
   "id": "bd0f41c3",
   "metadata": {},
   "outputs": [],
   "source": [
    "df_res.to_excel('./code/data/hybrid_machine_learning/train_with.xlsx', index=False)"
   ]
  }
 ],
 "metadata": {
  "kernelspec": {
   "display_name": "Python 3 (ipykernel)",
   "language": "python",
   "name": "python3"
  },
  "language_info": {
   "codemirror_mode": {
    "name": "ipython",
    "version": 3
   },
   "file_extension": ".py",
   "mimetype": "text/x-python",
   "name": "python",
   "nbconvert_exporter": "python",
   "pygments_lexer": "ipython3",
   "version": "3.9.7"
  }
 },
 "nbformat": 4,
 "nbformat_minor": 5
}
